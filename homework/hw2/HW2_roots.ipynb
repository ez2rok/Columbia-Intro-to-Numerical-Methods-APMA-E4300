{
 "cells": [
  {
   "cell_type": "markdown",
   "metadata": {},
   "source": [
    "Before you turn this problem in, make sure everything runs as expected. First, **restart the kernel** (in the menubar, select Kernel$\\rightarrow$Restart) and then **run all cells** (in the menubar, select Cell$\\rightarrow$Run All).\n",
    "\n",
    "Make sure you fill in any place that says `YOUR CODE HERE` or \"YOUR ANSWER HERE\", as well as any collaborators you worked with:"
   ]
  },
  {
   "cell_type": "code",
   "execution_count": 1,
   "metadata": {},
   "outputs": [],
   "source": [
    "COLLABORATORS = \"Just ME :)\""
   ]
  },
  {
   "cell_type": "code",
   "execution_count": 3,
   "metadata": {},
   "outputs": [],
   "source": [
    "from __future__ import print_function\n",
    "import numpy\n",
    "import matplotlib.pyplot as plt\n",
    "import warnings\n",
    "from scipy.optimize import root_scalar\n",
    "\n",
    "from  rootfinding_optimization_schemes import newton, bisection, secant\n",
    "\n",
    "%matplotlib inline"
   ]
  },
  {
   "cell_type": "markdown",
   "metadata": {
    "deletable": false,
    "editable": false,
    "nbgrader": {
     "cell_type": "markdown",
     "checksum": "16a15b070eb04274387730b373ead3b7",
     "grade": false,
     "grade_id": "cell-7752050701682384",
     "locked": true,
     "schema_version": 3,
     "solution": false
    }
   },
   "source": [
    "# HW 2:  Root Finding and Optimization"
   ]
  },
  {
   "cell_type": "markdown",
   "metadata": {
    "deletable": false,
    "editable": false,
    "nbgrader": {
     "cell_type": "markdown",
     "checksum": "655550136a8876cfde367066162aeace",
     "grade": false,
     "grade_id": "cell-8382527651811313",
     "locked": true,
     "schema_version": 3,
     "solution": false
    }
   },
   "source": [
    "## Question 1 - Fun with Fixed Point iteration\n",
    "\n",
    "Let's say that we wanted to calculate $\\sqrt{M}$ given that $M \\in \\mathbb{R}$ and $M > 0$ and that we did not want to use the function `sqrt` directly.  Consider the function \n",
    "\n",
    "$$\n",
    "    f(x) = x^2 - M\n",
    "$$\n",
    "\n",
    "which has a positive root at at $x=\\sqrt{M}$.   Here we will try to solve this using  fixed point iteration\n",
    "\n",
    "$$\n",
    "    x_{k+1} = g(x_k)\n",
    "$$\n",
    "for several different iteration functions $g(x)$ (see below)\n",
    "\n",
    "For each function $g$:\n",
    "\n",
    "- Confirm analytically that $x=\\sqrt{M}$ is a fixed point of $g(x)$\n",
    "- Analyze the convergence behavior close to the fixed-point and determine the stability of the iterative scheme\n",
    "- Now set $M=3$  and $x_0 = 2$.  Make a nicely labeled convergence plot showing the log of the relative error as a function of iteration. How many iterations are required to reduce the relative error to machine precision (if it converges)?\n",
    "\n",
    "**Remember**: if you want to write $g^\\prime$, remember to use `g^\\prime` rather than `g'` in $\\LaTeX$"
   ]
  },
  {
   "cell_type": "markdown",
   "metadata": {
    "deletable": false,
    "editable": false,
    "nbgrader": {
     "cell_type": "markdown",
     "checksum": "47d9ae565a714b67099b1500b01a4250",
     "grade": false,
     "grade_id": "cell-7408468548362671",
     "locked": true,
     "schema_version": 3,
     "solution": false
    }
   },
   "source": [
    "**(a)** [4] To help with the last part,  write a short python function to return N iterations of a fixed point iteration."
   ]
  },
  {
   "cell_type": "code",
   "execution_count": 4,
   "metadata": {
    "deletable": false,
    "nbgrader": {
     "cell_type": "code",
     "checksum": "ce6bb68ac251ae8857aeb9060c313a74",
     "grade": false,
     "grade_id": "cell-5217816963816529",
     "locked": false,
     "schema_version": 3,
     "solution": true
    }
   },
   "outputs": [],
   "source": [
    "def fixed_point(g, x0, N=5):\n",
    "    \"\"\"conduct N iterations of the fixed point iteration x_{k+1} = g(x_k)\n",
    "    \n",
    "    :Input:\n",
    "        - *g* (function) - The iteration function\n",
    "        - *x_0* (float) - Initial iterate\n",
    "        - *N* (int) - number of terms in iteration\n",
    "     \n",
    "    :Output:\n",
    "        x: numpy array (float)\n",
    "            array containing the iterations [ x0, x1, ... x_N ]\n",
    "    \"\"\"\n",
    "\n",
    "    # initial values\n",
    "    x = numpy.empty(N+1)\n",
    "    x[0] = x0\n",
    "    \n",
    "    for i in range(1, N+1):\n",
    "        x[i] = g(x[i-1])\n",
    "                 \n",
    "    return x       "
   ]
  },
  {
   "cell_type": "code",
   "execution_count": 5,
   "metadata": {
    "deletable": false,
    "editable": false,
    "nbgrader": {
     "cell_type": "code",
     "checksum": "62a641c4ff1153c8b1e8e39058a3a5eb",
     "grade": true,
     "grade_id": "cell-5409919424122382",
     "locked": true,
     "points": 4,
     "schema_version": 3,
     "solution": false
    }
   },
   "outputs": [
    {
     "name": "stdout",
     "output_type": "stream",
     "text": [
      "success: passed N=5 test\n",
      "success: passed N=1000 test\n"
     ]
    }
   ],
   "source": [
    "# Testing Cell\n",
    "\n",
    "N = 5\n",
    "g = lambda x: numpy.cos(x)\n",
    "x0 = 1.\n",
    "answer = numpy.array([1., 0.54030231, 0.85755322, 0.65428979, 0.79348036, 0.70136877])\n",
    "\n",
    "x = fixed_point(g, x0, N )\n",
    "numpy.testing.assert_allclose(x, answer)\n",
    "print('success: passed N=5 test')\n",
    "\n",
    "x_true = 0.7390851332153119\n",
    "x = fixed_point(g, x0, 1000)\n",
    "numpy.testing.assert_almost_equal(x[-1],x_true)\n",
    "print('success: passed N=1000 test')"
   ]
  },
  {
   "cell_type": "code",
   "execution_count": 6,
   "metadata": {},
   "outputs": [],
   "source": [
    "def get_relative_error(true, approx):\n",
    "    return numpy.abs(true - approx) / numpy.abs(true)"
   ]
  },
  {
   "cell_type": "code",
   "execution_count": 7,
   "metadata": {},
   "outputs": [],
   "source": [
    "def get_log_relative_error(M, x0, g, true_val, N=1000):\n",
    "    \n",
    "    # apprxomiate root of g\n",
    "    x = fixed_point(g, x0, N=N)\n",
    "    \n",
    "    # compute log relative error\n",
    "    true_array = numpy.full(x.shape, true_val)\n",
    "    relative_error = get_relative_error(true_array, x)\n",
    "    log_relative_error = numpy.log(relative_error)\n",
    "    \n",
    "    return log_relative_error"
   ]
  },
  {
   "cell_type": "code",
   "execution_count": 26,
   "metadata": {},
   "outputs": [],
   "source": [
    "def plot_relative_error(log_relative_error, machine_eps, eqn_str):\n",
    "#     \"\"\"\"\n",
    "#     Please note: in question 1, there was some ambiguity in how we\n",
    "#     count the number of iterations until we are less than machine \n",
    "#     epsilon. I assumed that 1) we include the initial point as an \n",
    "#     iteration and 2) we count the number of iterations it takes for\n",
    "#     exceed machine epsilon, including the iteration that exceeds \n",
    "#     machine epsilon.\n",
    "#     \"\"\"\n",
    "\n",
    "    # a the first location where log_relative_error is less than machine epsilon\n",
    "    a = numpy.where(log_relative_error < numpy.log(machine_eps))\n",
    "    converges = len(a[0]) > 0\n",
    "    \n",
    "    if converges:\n",
    "        stop_idx = a[0][0] + 1\n",
    "        plt.plot(log_relative_error[:stop_idx], label='ln(relative error)')\n",
    "        #plt.plot(stop_idx-1, numpy.log(machine_eps), 'o', label='error < ε_machine')\n",
    "        title = 'Relative Error of {} Converges\\nAfter {} iterations, relative_error < ε_machine\\nM={}, x0={}'.format(eqn_str, stop_idx-1, M, x0)\n",
    "    else:\n",
    "        plt.plot(log_relative_error, label='ln(relative error)')\n",
    "        title = 'Relative Error of {} Diverges\\n relative_error < ε_machine Never Occurs\\nM={}, x0={}'.format(eqn_str, M, x0)\n",
    "            \n",
    "    plt.title(title)\n",
    "    plt.xlabel('Iteration')\n",
    "    plt.ylabel('Log of Relative Error')\n",
    "    plt.legend()\n",
    "    plt.show()"
   ]
  },
  {
   "cell_type": "markdown",
   "metadata": {
    "deletable": false,
    "editable": false,
    "nbgrader": {
     "cell_type": "markdown",
     "checksum": "14b5f732f5aa0e3b5cfeac176c46d19c",
     "grade": false,
     "grade_id": "cell-2533433274902651",
     "locked": true,
     "schema_version": 3,
     "solution": false
    }
   },
   "source": [
    "**(b)** [6] analyze the problem with \n",
    "$$ g(x) = 1 + x - \\frac{x^2}{M}$$"
   ]
  },
  {
   "cell_type": "markdown",
   "metadata": {
    "deletable": false,
    "nbgrader": {
     "cell_type": "markdown",
     "checksum": "f8553ede2a496f25fd88744bab86b8fa",
     "grade": true,
     "grade_id": "cell-340019030337399",
     "locked": false,
     "points": 4,
     "schema_version": 3,
     "solution": true,
     "task": false
    }
   },
   "source": [
    "This function is a fixed point function because\n",
    "$$\n",
    "\\begin{align*}\n",
    "    g(\\sqrt{M})\n",
    "    &=\n",
    "    1 + \\sqrt{M} - \\frac{(\\sqrt{M})^2}{M}\n",
    "    =\n",
    "    1 + \\sqrt{M} - 1\n",
    "    = \\sqrt{M}\n",
    "\\end{align*}\n",
    "$$\n",
    "Let's explore its behvaior close to the fixed point:\n",
    "\n",
    "$$\n",
    "\\begin{align*}\n",
    "    g'(x)\n",
    "    &=\n",
    "    1 - \\frac{2x}{M} \\\\\n",
    "    |g'(\\sqrt{M})| &= |1 - \\frac{2 \\sqrt{M}}{M}|\n",
    "    = |1 - \\frac{2}{\\sqrt{M}}| < 1\n",
    "    \\Rightarrow M > 1\n",
    "    \\\\\n",
    "\\end{align*}\n",
    "$$\n",
    "This means that if $ M > 1 $, our fixed point iteration will converge because then $|g'(x)| \\leq 1$ when x is our fixed point. So because we have $M=3$, this will converge."
   ]
  },
  {
   "cell_type": "code",
   "execution_count": 27,
   "metadata": {
    "deletable": false,
    "nbgrader": {
     "cell_type": "code",
     "checksum": "743a196e7f7129d5fdeb501531d96bc2",
     "grade": true,
     "grade_id": "cell-9ea67719fcf6c873",
     "locked": false,
     "points": 2,
     "schema_version": 3,
     "solution": true,
     "task": false
    }
   },
   "outputs": [
    {
     "name": "stderr",
     "output_type": "stream",
     "text": [
      "<ipython-input-7-7b81b6dec415>:9: RuntimeWarning: divide by zero encountered in log\n",
      "  log_relative_error = numpy.log(relative_error)\n"
     ]
    },
    {
     "data": {
      "image/png": "[encoded data removed]",
      "text/plain": [
       "<Figure size 432x288 with 1 Axes>"
      ]
     },
     "metadata": {
      "needs_background": "light"
     },
     "output_type": "display_data"
    }
   ],
   "source": [
    "# initial values\n",
    "M = 3\n",
    "x0 = 2\n",
    "g = lambda x: 1 + x - x**2/M\n",
    "N = 1000\n",
    "true_val = numpy.sqrt(3)\n",
    "machine_eps = numpy.finfo(float).eps\n",
    "eqn_str = 'g(x) = 1 + x - x^2/M'\n",
    "\n",
    "# get log relative error\n",
    "log_relative_error = get_log_relative_error(M, x0, g, true_val, N=N)\n",
    "plot_relative_error(log_relative_error, machine_eps, eqn_str)"
   ]
  },
  {
   "cell_type": "markdown",
   "metadata": {
    "deletable": false,
    "editable": false,
    "nbgrader": {
     "cell_type": "markdown",
     "checksum": "631a3e4c05e43db09ece645a93dd948c",
     "grade": false,
     "grade_id": "cell-2533433274adsfadf1",
     "locked": true,
     "schema_version": 3,
     "solution": false
    }
   },
   "source": [
    " **(c)** [6] analyze the problem with \n",
    "$$ g(x) = \\frac{M}{x}$$"
   ]
  },
  {
   "cell_type": "markdown",
   "metadata": {
    "deletable": false,
    "nbgrader": {
     "cell_type": "markdown",
     "checksum": "4b9b505f2509ac5d4d21866f8f8735d0",
     "grade": true,
     "grade_id": "cell-340019030h348fqoi",
     "locked": false,
     "points": 4,
     "schema_version": 3,
     "solution": true,
     "task": false
    }
   },
   "source": [
    "This function is a fixed point function because\n",
    "$$\n",
    "\\begin{align*}\n",
    "    g( \\sqrt{M} ) \n",
    "    &=\n",
    "    \\frac{M}{\\sqrt{M}}\n",
    "    = \\sqrt{M} \\\\\n",
    "\\end{align*}\n",
    "$$\n",
    "\n",
    "Let's explore its behvaior close to the fixed point:\n",
    "$$\n",
    "\\begin{align*}\n",
    "    g'(x)\n",
    "    &=\n",
    "    \\frac{-M}{x^2} \\\\\n",
    "    |g'(\\sqrt{M})| &= |\\frac{-M}{\\sqrt{M}^2}| = |-1| = 1 \\nless 1\n",
    "    \\\\\n",
    "\\end{align*}\n",
    "$$\n",
    "This means that there is no value of $M$ for which our fixed point iteration will converge."
   ]
  },
  {
   "cell_type": "code",
   "execution_count": 28,
   "metadata": {
    "deletable": false,
    "nbgrader": {
     "cell_type": "code",
     "checksum": "564a941d39f88c7cb280a1cc912d4b05",
     "grade": true,
     "grade_id": "cell-9ea67238r9y",
     "locked": false,
     "points": 2,
     "schema_version": 3,
     "solution": true,
     "task": false
    },
    "scrolled": true
   },
   "outputs": [
    {
     "data": {
      "image/png": "[encoded data removed]",
      "text/plain": [
       "<Figure size 432x288 with 1 Axes>"
      ]
     },
     "metadata": {
      "needs_background": "light"
     },
     "output_type": "display_data"
    }
   ],
   "source": [
    "# initial values\n",
    "M = 3\n",
    "x0 = 2\n",
    "g = lambda x: M/x\n",
    "N = 1000\n",
    "true_val = numpy.sqrt(3)\n",
    "machine_eps = numpy.finfo(float).eps\n",
    "eqn_str = 'g(x) = M/x'\n",
    "\n",
    "# get log relative error\n",
    "cutoff_idx = 50\n",
    "log_relative_error = get_log_relative_error(M, x0, g, true_val, N=N)\n",
    "plot_relative_error(log_relative_error[:cutoff_idx], machine_eps, eqn_str)"
   ]
  },
  {
   "cell_type": "markdown",
   "metadata": {
    "deletable": false,
    "editable": false,
    "nbgrader": {
     "cell_type": "markdown",
     "checksum": "d41d5129f00d5d1f3b8dceea620547c2",
     "grade": false,
     "grade_id": "cell-253343327982308ufu",
     "locked": true,
     "schema_version": 3,
     "solution": false
    }
   },
   "source": [
    "**(d)** [6] Newton's method\n",
    "$$ g(x) = x - \\frac{f}{f^\\prime}$$\n",
    "\n",
    "with $$ f = x^2 - M$$"
   ]
  },
  {
   "cell_type": "markdown",
   "metadata": {
    "deletable": false,
    "nbgrader": {
     "cell_type": "markdown",
     "checksum": "064fb95869cb3acd441daafd5640ee52",
     "grade": true,
     "grade_id": "cell-340019030oijq234roi",
     "locked": false,
     "points": 4,
     "schema_version": 3,
     "solution": true,
     "task": false
    }
   },
   "source": [
    "This function is a fixed point function because\n",
    "$$\n",
    "\\begin{align*}\n",
    "    g(x)\n",
    "    &=\n",
    "    x - \\frac{x^2 - M}{2x} \\\\\n",
    "    g(\\sqrt{M})\n",
    "    &=\n",
    "    \\sqrt{M} - \\frac{\\sqrt{M}^2 - M}{2 \\sqrt{M}}\n",
    "    = \\sqrt{M} - 0\n",
    "    = \\sqrt{M}\n",
    "\\end{align*}\n",
    "$$\n",
    "\n",
    "Let's explore its behvaior close to the fixed point:\n",
    "$$\n",
    "\\begin{align*}\n",
    "    g'(x) &= \\frac{1}{2} - \\frac{M}{2x^2} \\\\\n",
    "    g'(\\sqrt{M}) &= \\frac{1}{2} - \\frac{M}{2 \\sqrt{M}^2} = \\frac{1}{2} - \\frac{1}{2} = 0 \\\\\n",
    "    \\\\\n",
    "    g''(x) &= \\frac{M}{x^3} \\\\\n",
    "    |g''(\\sqrt{M})| &= |\\frac{M}{\\sqrt{M}^3}| = |\\frac{1}{\\sqrt{M}}| < 1\n",
    "    \\Rightarrow M > 1 \\\\\n",
    "\\end{align*}\n",
    "$$\n",
    "This guarantees that our Newton's method will converge."
   ]
  },
  {
   "cell_type": "code",
   "execution_count": 29,
   "metadata": {
    "deletable": false,
    "nbgrader": {
     "cell_type": "code",
     "checksum": "de8bb72e85c8267066928bf4faaa5e8f",
     "grade": true,
     "grade_id": "cell-9ea67719fouerouh",
     "locked": false,
     "points": 2,
     "schema_version": 3,
     "solution": true,
     "task": false
    }
   },
   "outputs": [
    {
     "name": "stderr",
     "output_type": "stream",
     "text": [
      "<ipython-input-7-7b81b6dec415>:9: RuntimeWarning: divide by zero encountered in log\n",
      "  log_relative_error = numpy.log(relative_error)\n"
     ]
    },
    {
     "data": {
      "image/png": "[encoded data removed]",
      "text/plain": [
       "<Figure size 432x288 with 1 Axes>"
      ]
     },
     "metadata": {
      "needs_background": "light"
     },
     "output_type": "display_data"
    }
   ],
   "source": [
    "# initial values\n",
    "M = 3\n",
    "x0 = 2\n",
    "g = lambda x: x - (x**2 - M) / (2*x)\n",
    "N = 1000\n",
    "true_val = numpy.sqrt(3)\n",
    "machine_eps = numpy.finfo(float).eps\n",
    "eqn_str = 'g(x) = x - (x^2 - M)/2x'\n",
    "\n",
    "# get log relative error\n",
    "log_relative_error = get_log_relative_error(M, x0, g, true_val, N=N)\n",
    "plot_relative_error(log_relative_error, machine_eps, eqn_str)"
   ]
  },
  {
   "cell_type": "markdown",
   "metadata": {
    "deletable": false,
    "editable": false,
    "nbgrader": {
     "cell_type": "markdown",
     "checksum": "268f820b9f5eab632cd649479bcb3072",
     "grade": false,
     "grade_id": "cell-5084202108adoiu923",
     "locked": true,
     "schema_version": 3,
     "solution": false
    }
   },
   "source": [
    "## Question 2 - Fun with Rootfinders and NewtSafe\n",
    "\n",
    "This problem will explore the behavior of a range of different rootfinding routines against  a more challenging rootfinding problem.  Feel free to use any or all  of the routines presented in class which have been included in an auxiliary python file `rootfinding_optimization_schemes.py`\n",
    "\n",
    "\n",
    "You need to have this file in the same directory with your homework for this notebook to import it."
   ]
  },
  {
   "cell_type": "code",
   "execution_count": 12,
   "metadata": {},
   "outputs": [
    {
     "name": "stdout",
     "output_type": "stream",
     "text": [
      "functions loaded correctly\n"
     ]
    }
   ],
   "source": [
    "#  Cell to import and test at least newton's method from class\n",
    "\n",
    "from rootfinding_optimization_schemes import newton\n",
    "\n",
    "# set test function and its derivative\n",
    "f = lambda x: numpy.cos(x) - x\n",
    "f_prime = lambda x: -numpy.sin(x) - 1.\n",
    "\n",
    "#set initial guess and call newton\n",
    "x0 = 1.\n",
    "x, x_array = newton(f, f_prime, x0,tol=1.e-12)\n",
    "\n",
    "# run tests\n",
    "answer = 0.7390851332151606\n",
    "N = 5\n",
    "numpy.testing.assert_almost_equal(x, answer)\n",
    "numpy.testing.assert_almost_equal(N, len(x_array))\n",
    "print(\"functions loaded correctly\")"
   ]
  },
  {
   "cell_type": "markdown",
   "metadata": {
    "deletable": false,
    "editable": false,
    "nbgrader": {
     "cell_type": "markdown",
     "checksum": "a32d15febb12107bc3e15a6804e7cddd",
     "grade": false,
     "grade_id": "cell-08d7aa7aa9d9d246",
     "locked": true,
     "schema_version": 3,
     "solution": false,
     "task": false
    }
   },
   "source": [
    "Consider the function \n",
    "\n",
    "$$\n",
    "    f(x) = \\cos(x) +  N(x, A, \\alpha, \\beta))\n",
    "$$\n",
    "where\n",
    "\n",
    "$$\n",
    "    N(x, A, \\alpha, \\beta) =  A\\left[\\sin(\\alpha x) + \\sin(\\beta x)\\right]\n",
    "$$\n",
    "\n",
    "is a function that adds smooth additive \"noise\" with fixed amplitude $A = 0.05$ and varying frequencies $\\alpha$ and $\\beta$"
   ]
  },
  {
   "cell_type": "markdown",
   "metadata": {
    "deletable": false,
    "editable": false,
    "nbgrader": {
     "cell_type": "markdown",
     "checksum": "65622963e22afc39580364b2d0fb4665",
     "grade": false,
     "grade_id": "cell-fadb86c67ee671d2",
     "locked": true,
     "schema_version": 3,
     "solution": false,
     "task": false
    }
   },
   "source": [
    "**(a)** [4] Make a nicely labeled plot to showing the behavior of this function for \n",
    "* $\\alpha = 0.$, $\\beta =0.$\n",
    "* $\\alpha = 4.$, $\\beta =5.$\n",
    "* $\\alpha = 27$, $\\beta = 50$\n",
    "\n",
    "over the domain $x\\in[-2\\pi, 2\\pi]$. Make sure you have enough points to resolve the wiggles.  You can plot all three curves on the same plot"
   ]
  },
  {
   "cell_type": "code",
   "execution_count": 13,
   "metadata": {},
   "outputs": [],
   "source": [
    "def N(alpha, beta, A, x):\n",
    "    return A * (numpy.sin(alpha * x) + numpy.sin(beta * x))"
   ]
  },
  {
   "cell_type": "code",
   "execution_count": 14,
   "metadata": {},
   "outputs": [],
   "source": [
    "def f(alpha, beta, A, x):\n",
    "    return numpy.cos(x) + N(alpha, beta, A, x)"
   ]
  },
  {
   "cell_type": "code",
   "execution_count": 15,
   "metadata": {
    "deletable": false,
    "nbgrader": {
     "cell_type": "code",
     "checksum": "edc7c9bcc180f7f6c5e68c36a482e7ba",
     "grade": true,
     "grade_id": "cell-fadb86c67ee67848gr",
     "locked": false,
     "points": 4,
     "schema_version": 3,
     "solution": true,
     "task": false
    }
   },
   "outputs": [
    {
     "data": {
      "image/png": "[encoded data removed]",
      "text/plain": [
       "<Figure size 1152x576 with 1 Axes>"
      ]
     },
     "metadata": {
      "needs_background": "light"
     },
     "output_type": "display_data"
    }
   ],
   "source": [
    "# initial values\n",
    "x = numpy.linspace(-2 * numpy.pi, 2 * numpy.pi, num=1000)\n",
    "alphas = [0., 4., 27]\n",
    "betas = [0., 5., 50.]\n",
    "A = 0.05\n",
    "lines = []\n",
    "plt.figure(figsize=(16,8))\n",
    "\n",
    "for alpha, beta in zip(alphas, betas):\n",
    "    lines.append(f(alpha, beta, A, x))\n",
    "    \n",
    "for line, alpha, beta in zip(lines, alphas, betas):\n",
    "    label = 'alpha={}, beta={}'.format(alpha, beta)\n",
    "    plt.plot(line, '-', linewidth=1, label=label, alpha=0.9)\n",
    "\n",
    "plt.xlabel('x')\n",
    "plt.ylabel('f(x)')\n",
    "plt.title('f(x) = cos(x) + A[sin(αx) + sin(βx)]')\n",
    "plt.legend()\n",
    "plt.show()"
   ]
  },
  {
   "cell_type": "markdown",
   "metadata": {
    "deletable": false,
    "editable": false,
    "nbgrader": {
     "cell_type": "markdown",
     "checksum": "3b9302605aa4f4dedadf35490138eeea",
     "grade": false,
     "grade_id": "cell-cfeab33ec7437a33",
     "locked": true,
     "schema_version": 3,
     "solution": false,
     "task": false
    }
   },
   "source": [
    "**(b)** [4] Explore the behavior of the following rootfinding routines \n",
    "* bisection\n",
    "* newton\n",
    "* secant\n",
    "* brentq method using scipy.optimize.root_scalar\n",
    "* **EXTRA CREDIT** any other method used in root_scalar\n",
    "\n",
    "for finding a root of this function, given the bracket $x\\in[x_0, x_1]$ with $x_0 = 0.2$, $x_1 = 2.$ for each ($\\alpha, \\beta$) pair\n",
    "\n",
    "`params = [ (0., 0.), (4., 5.),  (27, 50.) ]`\n",
    "\n",
    "For each routine,  report\n",
    "* the root found $x^*$\n",
    "* the value of $f$ at the root $f(x^*$)\n",
    "* the number of iterations."
   ]
  },
  {
   "cell_type": "code",
   "execution_count": 16,
   "metadata": {},
   "outputs": [],
   "source": [
    "a = 0.2 # left bracket\n",
    "b = 2 # right bracket\n",
    "c = 1.1 # midpoint\n",
    "A = 0.05\n",
    "params = [ (0., 0.), (4., 5.),  (27, 50.) ]"
   ]
  },
  {
   "cell_type": "code",
   "execution_count": 17,
   "metadata": {
    "deletable": false,
    "nbgrader": {
     "cell_type": "code",
     "checksum": "e4da74b90e3a108cde24c50d129d4a41",
     "grade": true,
     "grade_id": "cell-3d03e0785ba74cee",
     "locked": false,
     "points": 4,
     "schema_version": 3,
     "solution": true,
     "task": false
    }
   },
   "outputs": [
    {
     "name": "stdout",
     "output_type": "stream",
     "text": [
      "Bisection\n",
      "α=0.0, β=0.0\tx*=1.570796775817871\tf(x*)=-4.490229742968679e-07\t20 Iterations\n",
      "α=4.0, β=5.0\tx*=1.6304405212402344\tf(x*)=1.9620940002601506e-07\t18 Iterations\n",
      "α=27, β=50.0\tx*=1.5567201137542725\tf(x*)=-3.49143903736332e-08\t22 Iterations\n"
     ]
    }
   ],
   "source": [
    "print('Bisection')\n",
    "for alpha, beta in params:\n",
    "\n",
    "    def f(x):\n",
    "        return numpy.cos(x) + A * (numpy.sin(alpha * x) + numpy.sin(beta * x))\n",
    "\n",
    "    x_star, x_array = bisection(f,a,b)\n",
    "    print('α={}, β={}\\tx*={}\\tf(x*)={}\\t{} Iterations'.format(alpha, beta, x_star, f(x_star), len(x_array)))"
   ]
  },
  {
   "cell_type": "code",
   "execution_count": 18,
   "metadata": {},
   "outputs": [
    {
     "name": "stdout",
     "output_type": "stream",
     "text": [
      "Newton (Note =: I made the midpoint of the bracket my starting point)\n",
      "α=0.0, β=0.0\tx*=1.5707963267948988\tf(x*)=-2.1592137092929455e-15\t4 Iterations\n",
      "α=4.0, β=5.0\tx*=1.6304407448908182\tf(x*)=-8.637944526324048e-12\t5 Iterations\n",
      "α=27, β=50.0\tx*=29.79728521893855\tf(x*)=-2.990030098515284e-10\t40 Iterations\n"
     ]
    }
   ],
   "source": [
    "print('Newton (Note =: I made the midpoint of the bracket my starting point)')\n",
    "for alpha, beta in params:\n",
    "\n",
    "    def f(x):\n",
    "        return numpy.cos(x) + A * (numpy.sin(alpha * x) + numpy.sin(beta * x))\n",
    "    def f_prime(x):\n",
    "        return -numpy.sin(x) + A * (alpha * numpy.cos(alpha * x) + beta * numpy.cos(beta * x))\n",
    "\n",
    "    x_star, x_array = newton(f, f_prime, c)\n",
    "    print('α={}, β={}\\tx*={}\\tf(x*)={}\\t{} Iterations'.format(alpha, beta, x_star, f(x_star), len(x_array)))"
   ]
  },
  {
   "cell_type": "code",
   "execution_count": 19,
   "metadata": {},
   "outputs": [
    {
     "name": "stdout",
     "output_type": "stream",
     "text": [
      "secant\n",
      "α=0.0, β=0.0\tx*=1.5707963267998242\tf(x*)=-4.927552640156338e-12\t6 Iterations\n",
      "α=4.0, β=5.0\tx*=1.6304406749277849\tf(x*)=6.13728728740548e-08\t7 Iterations\n",
      "α=27, β=50.0\tx*=1.5567201023472799\tf(x*)=3.9454700583030355e-09\t9 Iterations\n"
     ]
    }
   ],
   "source": [
    "print('secant')\n",
    "for alpha, beta in params:\n",
    "    \n",
    "    def f(x):\n",
    "        return numpy.cos(x) + A * (numpy.sin(alpha * x) + numpy.sin(beta * x))\n",
    "    \n",
    "    x_star, x_array = secant(f, a, b)\n",
    "    print('α={}, β={}\\tx*={}\\tf(x*)={}\\t{} Iterations'.format(alpha, beta, x_star, f(x_star), len(x_array)))"
   ]
  },
  {
   "cell_type": "code",
   "execution_count": 20,
   "metadata": {},
   "outputs": [
    {
     "name": "stdout",
     "output_type": "stream",
     "text": [
      "brentq\n",
      "α=0.0, β=0.0\tx*=1.5707963267948966\tf(x*)=6.123233995736766e-17\t7 Iterations\n",
      "α=4.0, β=5.0\tx*=1.630440744880973\tf(x*)=-2.983724378680108e-16\t8 Iterations\n",
      "α=27, β=50.0\tx*=1.5567201035054403\tf(x*)=-3.139849491518021e-16\t10 Iterations\n"
     ]
    }
   ],
   "source": [
    "print('brentq')\n",
    "for alpha, beta in params:\n",
    "    \n",
    "    def f(x):\n",
    "        return numpy.cos(x) + A * (numpy.sin(alpha * x) + numpy.sin(beta * x))\n",
    "    \n",
    "    result = root_scalar(f, method='brentq', bracket=(a,b))\n",
    "    x_star = result.root\n",
    "    iterations = result.iterations\n",
    "    print('α={}, β={}\\tx*={}\\tf(x*)={}\\t{} Iterations'.format(alpha, beta, x_star, f(x_star), iterations))    "
   ]
  },
  {
   "cell_type": "code",
   "execution_count": 21,
   "metadata": {},
   "outputs": [
    {
     "name": "stdout",
     "output_type": "stream",
     "text": [
      "ridder\n",
      "α=0.0, β=0.0\tx*=1.5707963267945357\tf(x*)=3.6088371534313326e-13\t6 Iterations\n",
      "α=4.0, β=5.0\tx*=1.630440744881973\tf(x*)=-8.77721506586937e-13\t7 Iterations\n",
      "α=27, β=50.0\tx*=1.5567201035044596\tf(x*)=3.3408605742968334e-12\t6 Iterations\n"
     ]
    }
   ],
   "source": [
    "print('ridder')\n",
    "for alpha, beta in params:\n",
    "    \n",
    "    def f(x):\n",
    "        return numpy.cos(x) + A * (numpy.sin(alpha * x) + numpy.sin(beta * x))\n",
    "    \n",
    "    result = root_scalar(f, method='ridder', bracket=(a,b))\n",
    "    x_star = result.root\n",
    "    iterations = result.iterations\n",
    "    print('α={}, β={}\\tx*={}\\tf(x*)={}\\t{} Iterations'.format(alpha, beta, x_star, f(x_star), iterations))    "
   ]
  },
  {
   "cell_type": "markdown",
   "metadata": {
    "deletable": false,
    "editable": false,
    "nbgrader": {
     "cell_type": "markdown",
     "checksum": "60affd12658a1d118a9a3ac3ade5a703",
     "grade": false,
     "grade_id": "cell-d6c0204318b16a38",
     "locked": true,
     "schema_version": 3,
     "solution": false,
     "task": false
    }
   },
   "source": [
    "**(c)** [4] Make a convergence plot showing the relative error at each step for Newton's method for the same three parameter pairs and initial guess $x_0 = 0.2$."
   ]
  },
  {
   "cell_type": "code",
   "execution_count": 22,
   "metadata": {
    "deletable": false,
    "nbgrader": {
     "cell_type": "code",
     "checksum": "712e8203de014a4d1bff6c5d3589f974",
     "grade": true,
     "grade_id": "cell-03e97ced4d02bc89",
     "locked": false,
     "points": 4,
     "schema_version": 3,
     "solution": true,
     "task": false
    }
   },
   "outputs": [
    {
     "name": "stdout",
     "output_type": "stream",
     "text": [
      "Newton\n",
      "α=0.0, β=0.0\tx*=4.71238898038469\tf(x*)=-1.8369701987210297e-16\t5 Iterations\n",
      "α=4.0, β=5.0\tx*=-14.096326236971352\tf(x*)=6.931560738582254e-08\t5 Iterations\n",
      "α=27, β=50.0\tx*=1.556720103515459\tf(x*)=-3.413055948975341e-11\t138 Iterations\n"
     ]
    },
    {
     "data": {
      "image/png": "[encoded data removed]",
      "text/plain": [
       "<Figure size 1152x576 with 1 Axes>"
      ]
     },
     "metadata": {
      "needs_background": "light"
     },
     "output_type": "display_data"
    }
   ],
   "source": [
    "# initial values\n",
    "print('Newton')\n",
    "A = 0.05\n",
    "params = [ (0., 0.), (4., 5.),  (27, 50.) ]\n",
    "c = 0.2\n",
    "plt.figure(figsize=(16,8))\n",
    "\n",
    "for alpha, beta in params:\n",
    "\n",
    "    # define functions\n",
    "    def f(x):\n",
    "        return numpy.cos(x) + A * (numpy.sin(alpha * x) + numpy.sin(beta * x))\n",
    "    def f_prime(x):\n",
    "        return -numpy.sin(x) + A * (alpha * numpy.cos(alpha * x) + beta * numpy.cos(beta * x))\n",
    "\n",
    "    # Newton's method\n",
    "    x_star, x_array = newton(f, f_prime, c)\n",
    "    print('α={}, β={}\\tx*={}\\tf(x*)={}\\t{} Iterations'.format(alpha, beta, x_star, f(x_star), len(x_array)))\n",
    "    \n",
    "    relative_errors = [get_relative_error(x_star, x) for x in x_array]\n",
    "    label = 'α={}, β={}'.format(alpha, beta)\n",
    "    plt.plot(relative_errors, label=label)\n",
    "\n",
    "plt.legend()\n",
    "plt.xlabel('Iteration')\n",
    "plt.ylabel('Relative Error')\n",
    "plt.show()"
   ]
  },
  {
   "cell_type": "markdown",
   "metadata": {
    "deletable": false,
    "editable": false,
    "nbgrader": {
     "cell_type": "markdown",
     "checksum": "2df03ce3234624a2a1c2d6b521634126",
     "grade": false,
     "grade_id": "cell-688d9772c0ee0353",
     "locked": true,
     "schema_version": 3,
     "solution": false,
     "task": false
    }
   },
   "source": [
    "**(d)** [4] Briefly explain your results so far for all the methods.  Feel free to play with other initial parameters or to make additional plots.  "
   ]
  },
  {
   "cell_type": "markdown",
   "metadata": {
    "deletable": false,
    "nbgrader": {
     "cell_type": "markdown",
     "checksum": "2fd45f3d0ef415e1263944f18cb82175",
     "grade": true,
     "grade_id": "cell-0d30efbc8418cd82",
     "locked": false,
     "points": 4,
     "schema_version": 3,
     "solution": true,
     "task": false
    }
   },
   "source": [
    "We explored each method -- bisection, newton, secant, brentq, ridder -- with little noise ($α=0.0, β=0.0$), a medium amount of noise ($α=4.0, β=5.0$), and a lot of noise ($α=27, β=50.0$). \n",
    "\n",
    "**Bisection** For no noise, medium noise, and high noise, it took bisection 20, 18, and 22 iterations respectively to converge. Bisection converges linearly so it makes sense that it takes a decent amount of iterations to converge. Because it took roughly the same amount of iterations to converge regardless of the noise, it seems that bisection method is not really affected by noise.\n",
    "\n",
    "**Netwon's method** For no noise, medium noise, and high noise, it took Newton 4, 5, and 40 iterations respectively to converge (starting point $x_0 = 1.1$). Newton's method converges quadratically so it makes sense that it took very few iterations for it to converge when there is little noise. Because it took roughly 8 times as long to converge when there was a lot of noise, it seems that Netwon's method is greatly impacted by noise.\n",
    "\n",
    "**Secant method** For no noise, medium noise, and high noise, it took the secant method 6, 7, and 9 iterations respectively to converge. The secant method converges superlinearly so it makes sense that it is faster than the bisection method (linear) but slower than Newton's method (quadratic). Because it took roughly the same amount of iterations to converge regardless of the noise, it seems that secant method is not really affected by noise.\n",
    "\n",
    "**Brentq** For no noise, medium noise, and high noise, it took brentq 7, 8, and 10 iterations respectively to converge. Brent’s method is a combination of bisection (linear convergence), secant (superlinear convergence) and inverse quadratic interpolation. Therefore it makes sense that brentq is slightly slower than secant. Moreover, because it took roughly the same amount of iterations to converge regardless of the noise, it seems that brentq is not really affected by noise.\n",
    "\n",
    "**Ridder's Method** For no noise, medium noise, and high noise, it took Ridder's method 6, 7, and 6 iterations respectively to converge. Ridder's method converges quadratically but as oppossed to Newton's method it requires two evaluations, making it slightly slower. This is reflected in that it takes slightly longer to converge than Newton's method when there is little noise. Because it took roughly the same amount of iterations to converge regardless of the noise, it seems that Ridder's method is not really affected by noise.\n",
    "\n",
    "For no noise, medium noise, and high noise, it took Newton's method 5, 5, and 138 iterations iterations respectively to converge given the starting point is $x_0 = 0.2$. It takes Newton's method so few iterations to converge when there is little noise because Newton's method converges quadratically. However, the graph above illustrates how Newton's method is sensitive to noise and can often find itself jumping around from one point to another close to the root but without actually hitting the root. This is likely impaced by the poor initial estimate: the root is $x^* = 1.5567$ but our starting point was $x_0 = 0.2$."
   ]
  },
  {
   "cell_type": "markdown",
   "metadata": {
    "deletable": false,
    "editable": false,
    "nbgrader": {
     "cell_type": "markdown",
     "checksum": "db197de596ae1a5191790bc36a15b67c",
     "grade": false,
     "grade_id": "cell-b46861a6140bb51d",
     "locked": true,
     "schema_version": 3,
     "solution": false,
     "task": false
    }
   },
   "source": [
    "**(e)** [6] Write a controlled Newton routine `NewtSafe`,  that finds a root with an initial bracket by combining newton steps with a bisection routine.  The basic algorithm is to first try Newton from the midpoint of the bracket.  If Newton predicts a solution outside of the bracket, ignore it and take a bisection step instead.  You can use and modify any of the rootfinding routines I presented in class, but write a decent docstring and raise appropriate exceptions as necessary. \n",
    "\n",
    "The routine should return the best estimate of the root and number of Newton Steps and the number of bisection steps\n",
    "\n",
    "`x, N_newt, N_bisection = newtsafe(f, f_prime, a, b)`"
   ]
  },
  {
   "cell_type": "code",
   "execution_count": 23,
   "metadata": {
    "deletable": false,
    "nbgrader": {
     "cell_type": "code",
     "checksum": "c064de33e8e33bb749259d97e0fb04a1",
     "grade": false,
     "grade_id": "cell-a20f6d1abec7c19d",
     "locked": false,
     "schema_version": 3,
     "solution": true,
     "task": false
    }
   },
   "outputs": [],
   "source": [
    "def newtsafe(f,f_prime,a,b,tol = 1.e-6, max_steps=1000):\n",
    "    \"\"\"\n",
    "    \n",
    "    Newtsafe is a bracketed root finding method. It tries Newton's\n",
    "    method from the midpoint of the bracket. If Newton predicts \n",
    "    a solution outside of the bracket, ignore it and take a bisection\n",
    "    step instead.\n",
    "        \n",
    "    \n",
    "    Parameters:\n",
    "    -----------\n",
    "    \n",
    "    f: function (float)\n",
    "        function returning f(x)\n",
    "    f_prime:  function (float)\n",
    "        function returning derivative of f with respect to x\n",
    "    a: float\n",
    "        left bracket a < x\n",
    "    b: float\n",
    "        right bracket x < b\n",
    "        \n",
    "        Note:  the signs of f(a) and f(b) must be different to insure a bracket\n",
    "    tol: float\n",
    "        tolerance.  Returns when |f(x)| < tol\n",
    "    max_steps: int\n",
    "        maximum number of iteration steps\n",
    "        \n",
    "    Returns:\n",
    "    --------\n",
    "    x: float\n",
    "        midpoint of final bracket\n",
    "    n_newt:  number of newton steps for successful newton iteration\n",
    "    n_bisection: number of bisection steps\n",
    "        \n",
    "    Raises:\n",
    "    -------\n",
    "    ValueError:  \n",
    "        if initial bracket is invalid \n",
    "    Warning: \n",
    "        if number of iterations exceed MAX_STEPS\n",
    "    Prints warning if Newton exceeds the bracket\n",
    "    \n",
    "    \"\"\"\n",
    "        \n",
    "    # initial values\n",
    "    MAX_STEPS = max_steps\n",
    "    n_newt = 0\n",
    "    n_bisection = 0\n",
    "    \n",
    "    delta_x = b - a\n",
    "    c = a + delta_x / 2.0\n",
    "    f_c = f(c)\n",
    "    f_a = f(a)\n",
    "    f_b = f(b)\n",
    "        \n",
    "    # check initial bracket\n",
    "    if a > b or numpy.sign(f_a) == numpy.sign(f_b):\n",
    "        raise ValueError('initial bracket is invalid')\n",
    "    \n",
    "    for step in range(1, MAX_STEPS + 1):\n",
    "                \n",
    "        # check for solution \n",
    "        if numpy.abs(f_c) < tol:\n",
    "            break\n",
    "        \n",
    "        # perform Newton's method\n",
    "        c_new = c - f_c / f_prime(c)\n",
    "                \n",
    "        # if Newton's method is inside the bracket, \n",
    "        # then update according to Newton's method\n",
    "        if a < c_new < b:\n",
    "            \n",
    "            n_newt += 1\n",
    "            c = c_new\n",
    "            f_c = f(c)\n",
    "        \n",
    "        # if Newton's method is outside the bracket, perform bisection\n",
    "        else:\n",
    "            \n",
    "            n_bisection += 1\n",
    "        \n",
    "            # determine if the root is in the bracket [a,c] or [c,b]\n",
    "            if numpy.sign(f_a) != numpy.sign(f_c):\n",
    "                b = c\n",
    "                f_b = f_c\n",
    "            else:\n",
    "                a = c\n",
    "                f_a = f_c\n",
    "\n",
    "            # update the value of c and f_c\n",
    "            delta_x = b - a\n",
    "            c = a + delta_x / 2.0\n",
    "            f_c = f(c)\n",
    "            \n",
    "    # check not to exceed max_steps\n",
    "    if step == MAX_STEPS:\n",
    "        warnings.warn('Maximum number of steps exceeded')\n",
    "        \n",
    "    return c, n_newt, n_bisection"
   ]
  },
  {
   "cell_type": "code",
   "execution_count": 24,
   "metadata": {
    "deletable": false,
    "editable": false,
    "nbgrader": {
     "cell_type": "code",
     "checksum": "a0fc4358c1096461564e6e35cea822ab",
     "grade": true,
     "grade_id": "cell-7cdbdbda9ca86f82",
     "locked": true,
     "points": 6,
     "schema_version": 3,
     "solution": false,
     "task": false
    }
   },
   "outputs": [
    {
     "name": "stdout",
     "output_type": "stream",
     "text": [
      "Bracket  = [-0.68309670780092, 2.642524050776319]\n",
      "Newton   = 1.27194847295657,    N   = 3\n",
      "NewtSafe = 1.27194847295657,    N_n = 3, N_b = 0\n",
      "brentq   = 1.2719484732512498,    N   = 9\n",
      "\n",
      "Bracket  = [-0.7104536143852529, 3.8152626763086603]\n",
      "Newton   = -23.8662065317763,    N   = 7\n",
      "NewtSafe = 1.0884990113244402,    N_n = 3, N_b = 2\n",
      "brentq   = 1.088499013515958,    N   = 13\n",
      "\n",
      "Bracket  = [-0.5236057894835726, 3.9067882124238986]\n",
      "Newton   = -10.863477689404652,    N   = 11\n",
      "NewtSafe = 1.1106142646362411,    N_n = 5, N_b = 1\n",
      "brentq   = 1.1106142646873127,    N   = 11\n",
      "\n",
      "Bracket  = [-0.5275356434135271, 2.4988039593212776]\n",
      "Newton   = 1.3248590962279085,    N   = 3\n",
      "NewtSafe = 1.3248590962279085,    N_n = 3, N_b = 0\n",
      "brentq   = 1.3248590968150393,    N   = 9\n",
      "\n",
      "Bracket  = [-0.3534683303763972, 3.9130408021252014]\n",
      "Newton   = 1.1473182519095415,    N   = 10\n",
      "NewtSafe = 1.1473181573836526,    N_n = 6, N_b = 1\n",
      "brentq   = 1.1473182519138232,    N   = 9\n",
      "\n",
      "initial bracket is invalid\n",
      "success!\n"
     ]
    }
   ],
   "source": [
    "# Testing Cell\n",
    "from  rootfinding_optimization_schemes import newton\n",
    "from scipy.optimize import root_scalar\n",
    "\n",
    "a = 27\n",
    "b = 50\n",
    "A = 0.3\n",
    "f = lambda x: numpy.cos(x) + A*(numpy.sin(a * x) + numpy.sin(b * x))\n",
    "f_prime = lambda x: -numpy.sin(x) + A*(a*numpy.cos(a * x) + b*numpy.cos(b * x))\n",
    "\n",
    "pi = numpy.pi\n",
    "\n",
    "brackets = [ \n",
    "            (-0.68309670780092, 2.642524050776319),\n",
    "            (-0.7104536143852529, 3.8152626763086603),\n",
    "            (-0.5236057894835726, 3.9067882124238986),\n",
    "            (-0.5275356434135271, 2.4988039593212776),\n",
    "            (-0.3534683303763972, 3.9130408021252014)\n",
    "           ]\n",
    "\n",
    "for bracket in brackets:\n",
    "    #a = numpy.random.uniform(low=-pi/4, high=pi/4)\n",
    "    #b = numpy.random.uniform(low=3*pi/4, high=5*pi/4)\n",
    "    a = bracket[0]\n",
    "    b = bracket[1]\n",
    "    x_n, x_array = newton(f, f_prime, (a + b)/2.)\n",
    "    x_ns, N_n, N_b = newtsafe(f, f_prime, a, b)\n",
    "    sol = root_scalar(f, bracket=(a, b),method='brentq')\n",
    "    print('Bracket  = [{}, {}]'.format(a, b))\n",
    "    print('Newton   = {},    N   = {}'.format(x_n, len(x_array)-1))\n",
    "    print('NewtSafe = {},    N_n = {}, N_b = {}'.format(x_ns, N_n, N_b))\n",
    "    print('brentq   = {},    N   = {}'.format(sol.root, sol.iterations))\n",
    "    print()\n",
    "    numpy.testing.assert_almost_equal(x_ns, sol.root,decimal=5)\n",
    "    \n",
    "try:\n",
    "    x_ns, N_n, N_b = newtsafe(f, f_prime, 1.6, 2.0)\n",
    "except ValueError as err:\n",
    "    print(err)\n",
    "    pass\n",
    "\n",
    "print('success!')\n"
   ]
  },
  {
   "cell_type": "markdown",
   "metadata": {
    "deletable": false,
    "editable": false,
    "nbgrader": {
     "cell_type": "markdown",
     "checksum": "6ff9cfc557769fb0e0cd3151689d9310",
     "grade": false,
     "grade_id": "cell-508420840igovo948yh23",
     "locked": true,
     "schema_version": 3,
     "solution": false
    }
   },
   "source": [
    "## Question 3 - Solve a \"real\" rootfinding problem\n",
    "\n",
    "In Homework 2, I asked you to *estimate* the number of terms in the taylor expansion of $e^x$ such that the relative error was less than $\\epsilon_{mach}$.  This was essentially a non-linear problem in the number of steps $n$.  Here we will use a rootfinder to get this number more precisely."
   ]
  },
  {
   "cell_type": "markdown",
   "metadata": {
    "deletable": false,
    "editable": false,
    "nbgrader": {
     "cell_type": "markdown",
     "checksum": "0c5da29bd8798f54998030d92df5ac1d",
     "grade": false,
     "grade_id": "cell-3f4f0535e4abc84f",
     "locked": true,
     "schema_version": 3,
     "solution": false,
     "task": false
    }
   },
   "source": [
    "**(a)** [8] provide a numerical solution for the number of terms $n$ in the Taylor polynomial expansion of exp(x) (i.e. $T_N(x))$ such that the relative error is\n",
    "\n",
    "$$\n",
    "    r = \\left| \\frac{x^{n+1}}{(n + 1)!} \\right| \\approx \\epsilon_{mach}\n",
    "$$ \n",
    "\n",
    "Give solutions for x = 0.1, 1., 10. ,100. , 709., 1000. and compare your numerical solution to the approximate solution given in last homework \n",
    "\n",
    "$$\n",
    "    n > e*x\n",
    "$$\n",
    "\n",
    "by calculating the relative error between the your numerical solution and your simpler estimate.\n",
    "\n",
    "Note: To make this problem easier, just use Stirling’s approximation $\\log(n!) \\approx n \\log n − n$. which will work quite well.  However, for a little bit of extra credit solve this for the full problem and compare solutions.\n"
   ]
  },
  {
   "cell_type": "markdown",
   "metadata": {
    "deletable": false,
    "nbgrader": {
     "cell_type": "markdown",
     "checksum": "b68b95d0b33a72562c80bc1c8831d3ac",
     "grade": true,
     "grade_id": "cell-8fc4ebbf43da6dff",
     "locked": false,
     "points": 4,
     "schema_version": 3,
     "solution": true,
     "task": false
    }
   },
   "source": [
    "Based on the sample x values given to us above, I am assuming that $x>0$.\n",
    "$$\n",
    "\\begin{align*}\n",
    "    r \n",
    "    &= \n",
    "    \\epsilon_{mach}\n",
    "    \\\\\n",
    "    \\left| \\frac{x^{n+1}}{(n + 1)!} \\right|\n",
    "    &=\n",
    "    \\epsilon_{mach} \\\\\n",
    "     \\frac{x^{n+1}}{(n + 1)!}\n",
    "     &=\n",
    "    \\epsilon_{mach} \\\\\n",
    "    ln \\bigg( \\frac{x^{n+1}}{(n + 1)!} \\bigg)\n",
    "    &=\n",
    "    ln ( \\epsilon_{mach} )\\\\\n",
    "    (n+1) ln(x) - (n+1) ln(n+1) + (n+1)\n",
    "    =\n",
    "    ln ( \\epsilon_{mach} )\\\\\n",
    "    f(n) =\n",
    "    (n+1) \\big( ln(x) - ln(n+1) + 1 \\big)\n",
    "    - ln ( \\epsilon_{mach} )\n",
    "    =\n",
    "    0 \\\\\n",
    "\\end{align*}\n",
    "$$"
   ]
  },
  {
   "cell_type": "code",
   "execution_count": 25,
   "metadata": {},
   "outputs": [
    {
     "name": "stdout",
     "output_type": "stream",
     "text": [
      "x=0.1\trelative_error=0.9697910021988252\n",
      "FLOAT:  n*=8.998252263613129\tn_approx=0.27182818284590454\n",
      "INT:    n*=9.0\t\tn_approx=1.0\n",
      "\n",
      "x=1\trelative_error=0.846366254674098\n",
      "FLOAT:  n*=17.69326017986983\tn_approx=2.718281828459045\n",
      "INT:    n*=18.0\t\tn_approx=3.0\n",
      "\n",
      "x=10\trelative_error=0.4811647423145021\n",
      "FLOAT:  n*=52.39200282157356\tn_approx=27.18281828459045\n",
      "INT:    n*=53.0\t\tn_approx=28.0\n",
      "\n",
      "x=100\trelative_error=0.10825980998184637\n",
      "FLOAT:  n*=304.82890183560164\tn_approx=271.8281828459045\n",
      "INT:    n*=305.0\t\tn_approx=272.0\n",
      "\n",
      "x=709\trelative_error=0.017693767588901572\n",
      "FLOAT:  n*=1961.9765738907554\tn_approx=1927.261816377463\n",
      "INT:    n*=1962.0\t\tn_approx=1928.0\n",
      "\n",
      "x=1000\trelative_error=0.012643543579275062\n",
      "FLOAT:  n*=2753.0906500709116\tn_approx=2718.2818284590453\n",
      "INT:    n*=2754.0\t\tn_approx=2719.0\n",
      "\n"
     ]
    }
   ],
   "source": [
    "# initial values\n",
    "machine_eps = numpy.finfo(float).eps\n",
    "x_array = [0.1, 1, 10, 100, 709, 1000]\n",
    "\n",
    "for x in x_array:\n",
    "    approx = numpy.exp(1) * x\n",
    "    a = approx # bracket lower bound\n",
    "    b = 300 * a # brackt upper bound\n",
    "\n",
    "    # define the function we want to find the root of\n",
    "    f = lambda n: (n + 1) * (numpy.log(x) - numpy.log(n + 1) + 1) - numpy.log(machine_eps)\n",
    "\n",
    "    # use scipy solve to get root of f\n",
    "    result = root_scalar(f, method='brentq', bracket=(a,b))\n",
    "    n_star = result.root\n",
    "    iterations = result.iterations\n",
    "\n",
    "    relative_error = get_relative_error(n_star, approx)\n",
    "    print('x={}\\trelative_error={}'.format(x, relative_error))\n",
    "    print('FLOAT:  n*={}\\tn_approx={}'.format(n_star, approx))\n",
    "    print('INT:    n*={}\\t\\tn_approx={}\\n'.format(numpy.ceil(n_star), numpy.ceil(approx)))"
   ]
  },
  {
   "cell_type": "code",
   "execution_count": null,
   "metadata": {
    "deletable": false,
    "nbgrader": {
     "cell_type": "code",
     "checksum": "11099c9f28135df32eed257aca68662a",
     "grade": true,
     "grade_id": "cell-963aac8426927a48",
     "locked": false,
     "points": 4,
     "schema_version": 3,
     "solution": true,
     "task": false
    }
   },
   "outputs": [],
   "source": []
  }
 ],
 "metadata": {
  "kernelspec": {
   "display_name": "Python 3",
   "language": "python",
   "name": "python3"
  },
  "language_info": {
   "codemirror_mode": {
    "name": "ipython",
    "version": 3
   },
   "file_extension": ".py",
   "mimetype": "text/x-python",
   "name": "python",
   "nbconvert_exporter": "python",
   "pygments_lexer": "ipython3",
   "version": "3.8.8"
  }
 },
 "nbformat": 4,
 "nbformat_minor": 2
}
