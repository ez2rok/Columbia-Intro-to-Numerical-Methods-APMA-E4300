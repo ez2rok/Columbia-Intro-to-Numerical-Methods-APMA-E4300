{
 "cells": [
  {
   "cell_type": "markdown",
   "metadata": {},
   "source": [
    "Before you turn this problem in, make sure everything runs as expected. First, **restart the kernel** (in the menubar, select Kernel$\\rightarrow$Restart) and then **run all cells** (in the menubar, select Cell$\\rightarrow$Run All).\n",
    "\n",
    "Make sure you fill in any place that says `YOUR CODE HERE` or \"YOUR ANSWER HERE\", as well as any collaborators you worked with:"
   ]
  },
  {
   "cell_type": "code",
   "execution_count": 1,
   "metadata": {},
   "outputs": [],
   "source": [
    "COLLABORATORS = \"\""
   ]
  },
  {
   "cell_type": "markdown",
   "metadata": {},
   "source": [
    "---"
   ]
  },
  {
   "cell_type": "code",
   "execution_count": 35,
   "metadata": {
    "deletable": false,
    "editable": false,
    "nbgrader": {
     "cell_type": "code",
     "checksum": "3c0e6f80c9a8d85d80baddc8df3890a0",
     "grade": false,
     "grade_id": "cell-7531378247537850",
     "locked": true,
     "schema_version": 3,
     "solution": false
    }
   },
   "outputs": [],
   "source": [
    "from __future__ import print_function\n",
    "%matplotlib inline\n",
    "import numpy\n",
    "import matplotlib.pyplot as plt\n",
    "\n",
    "# import the factorial function from scipy\n",
    "from scipy.special import factorial"
   ]
  },
  {
   "cell_type": "markdown",
   "metadata": {
    "deletable": false,
    "editable": false,
    "nbgrader": {
     "cell_type": "markdown",
     "checksum": "57fe3d1a770d32fc71d10c52d47d5765",
     "grade": false,
     "grade_id": "cell-1055125360070174",
     "locked": true,
     "schema_version": 3,
     "solution": false
    }
   },
   "source": [
    "# HW 1:  Forms of Error\n",
    "\n"
   ]
  },
  {
   "cell_type": "markdown",
   "metadata": {
    "deletable": false,
    "editable": false,
    "nbgrader": {
     "cell_type": "markdown",
     "checksum": "763bdcd61a173c57e8d82dcd9519ee2c",
     "grade": false,
     "grade_id": "cell-9681214437904696",
     "locked": true,
     "schema_version": 3,
     "solution": false
    }
   },
   "source": [
    "## Question 1:  definition of errors\n",
    "\n",
    "**(a)**  [4 pts] Write a short python program to calculate and return, the absolute error, relative error and degree of decimal precision (as defined in class) given an object `f` and its approximation `F`.  Note, both `f` and `F` can be numpy arrays."
   ]
  },
  {
   "cell_type": "code",
   "execution_count": 36,
   "metadata": {
    "deletable": false,
    "nbgrader": {
     "cell_type": "code",
     "checksum": "7c9bcb87e713e8ee4fb90ec822ed4d9f",
     "grade": false,
     "grade_id": "cell-a6ede65cf8ed685f",
     "locked": false,
     "schema_version": 3,
     "solution": true,
     "task": false
    }
   },
   "outputs": [],
   "source": [
    "def errors(f,F):\n",
    "    \"\"\" calculate various measures of error of an object f and its approximation F\n",
    "    \n",
    "    Parameters\n",
    "    ----------\n",
    "    f:  numpy.array (or float)\n",
    "        array of true values\n",
    "        \n",
    "    F: numpy.array\n",
    "        array of approximate values\n",
    "        \n",
    "    Returns\n",
    "    -------\n",
    "    \n",
    "    e: array of absolute errors\n",
    "    r: array of relative errors\n",
    "    p: integer array of precisions\n",
    "    \"\"\"\n",
    "    \n",
    "    # YOUR CODE HERE\n",
    "    \n",
    "    # compute absolute errors\n",
    "    e = numpy.abs(f - F)\n",
    "    \n",
    "    # compute relative errors\n",
    "    r = e / numpy.abs(f)\n",
    "    \n",
    "    # compute precisions\n",
    "    p = -numpy.log10(r/5.).astype(int)\n",
    "    \n",
    "    return e, r, p"
   ]
  },
  {
   "cell_type": "code",
   "execution_count": 37,
   "metadata": {
    "deletable": false,
    "editable": false,
    "nbgrader": {
     "cell_type": "code",
     "checksum": "811e12c9907b5b3fc93463b352dff5c3",
     "grade": true,
     "grade_id": "cell-da2659b413c73ca7",
     "locked": true,
     "points": 4,
     "schema_version": 3,
     "solution": false,
     "task": false
    }
   },
   "outputs": [
    {
     "name": "stdout",
     "output_type": "stream",
     "text": [
      "passed scalar test\n",
      "passed array test\n"
     ]
    }
   ],
   "source": [
    "# test simple scalars\n",
    "e,r,p = errors(numpy.exp(1),2.72)\n",
    "answer = [0.0017181715409551046, 0.0006320799863232398, 3]\n",
    "numpy.testing.assert_allclose([e,r,p], answer)\n",
    "print('passed scalar test')\n",
    "\n",
    "# test with array input\n",
    "x = [1., 2., 3.]\n",
    "f = numpy.exp(x)\n",
    "F = [ 2.718,  7.389,  20.085]\n",
    "e,r,p = errors(f,F)\n",
    "numpy.testing.assert_allclose(e,[2.81828459e-04, 5.60989307e-05, 5.36923188e-04])\n",
    "numpy.testing.assert_allclose(r,[1.03678896e-04, 7.59216467e-06, 2.67318315e-05])\n",
    "numpy.testing.assert_allclose(p,[4, 5, 5])\n",
    "print('passed array test')"
   ]
  },
  {
   "cell_type": "markdown",
   "metadata": {
    "deletable": false,
    "editable": false,
    "nbgrader": {
     "cell_type": "markdown",
     "checksum": "90b05b8f5232214b804110a26a04be3f",
     "grade": false,
     "grade_id": "cell-bef4e3baf992ed93",
     "locked": true,
     "schema_version": 3,
     "solution": false,
     "task": false
    }
   },
   "source": [
    "**(b)** [4 pts] Use your routine to calculate various errors for several rational approximations to $\\pi$\n",
    "\n",
    "* $f = \\pi$ and $F = 22 / 7$\n",
    "* $f = \\pi$ and $F = 314 / 100$\n",
    "* $f = \\pi$ and $F = 355 / 113$\n",
    "\n",
    "Compare the most precise approximation to the least precise approximation.  How many more digits of precision do you gain?"
   ]
  },
  {
   "cell_type": "code",
   "execution_count": 38,
   "metadata": {},
   "outputs": [
    {
     "name": "stdout",
     "output_type": "stream",
     "text": [
      "4 3 7\n"
     ]
    }
   ],
   "source": [
    "# you can put some working code here to generate your answers, but put your answers in the cell below\n",
    "p1 = errors(numpy.pi, 22/7)[2]\n",
    "p2 = errors(numpy.pi, 314/100)[2]\n",
    "p3 = errors(numpy.pi, 355/113)[2]\n",
    "print(p1, p2, p3)"
   ]
  },
  {
   "cell_type": "markdown",
   "metadata": {
    "deletable": false,
    "nbgrader": {
     "cell_type": "markdown",
     "checksum": "d9ac9462caae1146fa324fe338dd0c1d",
     "grade": true,
     "grade_id": "cell-4300360216304258",
     "locked": false,
     "points": 4,
     "schema_version": 3,
     "solution": true
    }
   },
   "source": [
    "$ \\text{We gain } 4 \\text{ digits of precision}$"
   ]
  },
  {
   "cell_type": "markdown",
   "metadata": {
    "deletable": false,
    "editable": false,
    "nbgrader": {
     "cell_type": "markdown",
     "checksum": "9680d17c5d494ccba620eb525f2ae882",
     "grade": false,
     "grade_id": "cell-23707a8e710ca676",
     "locked": true,
     "schema_version": 3,
     "solution": false,
     "task": false
    }
   },
   "source": [
    "**(c)** [4 pts] $F = n \\log(n) - n$ is Stirling's approximation to  $f = \\log(n!)$ for large values of $n$. \n",
    "Do the following\n",
    "\n",
    "* Make a plot showing the relative error and degree of decimal precision for $f$ and $F$ as a function of integer $n$\n",
    "\n",
    "* Estimate the smallest value of $n$ where Stirling's approximation is good to 4 decimal places of precision.  \n",
    "\n",
    "**Note**: If you use the `factorial` function imported from `scipy.special`, you will not be able to answer this question.  **Why?**  \n",
    "\n",
    "**Hint**: However there is another way to evaluate $\\log(n!)$ for integer $n$ that will work."
   ]
  },
  {
   "cell_type": "code",
   "execution_count": 39,
   "metadata": {},
   "outputs": [],
   "source": [
    "def stirling_approximatation(n):\n",
    "    \"\"\"\"\n",
    "    return n log(n) - n, which is Stirling's approximation of log(n!) for large values of n\n",
    "    \"\"\"\n",
    "    \n",
    "    return n * numpy.log(n) - n   "
   ]
  },
  {
   "cell_type": "code",
   "execution_count": 40,
   "metadata": {},
   "outputs": [],
   "source": [
    "def log_n_factorial(n):\n",
    "    \"\"\"\n",
    "    compute log(n!)\n",
    "    \"\"\"\n",
    "    \n",
    "    x = numpy.arange(2, n+1)\n",
    "    return numpy.sum([numpy.log(val) for val in x])"
   ]
  },
  {
   "cell_type": "code",
   "execution_count": 41,
   "metadata": {},
   "outputs": [],
   "source": [
    "def plot_approximation(n_values, relative_errors, precision_errors, n_val):\n",
    "    \"\"\"\n",
    "    plot the relative error and precision of stirling's approximation as n increases\n",
    "    n_val is the value of n we want to highlight\n",
    "    \"\"\"\n",
    "    \n",
    "    plt.title(\"Relative Error & Precision of Stirling's Approximation\\n(Precision reaches 4 when n={})\".format(n_val))\n",
    "    plt.plot(n_values, relative_errors, label='relative error')\n",
    "    plt.plot(n_values, precision_errors, '.', color='g', markersize='2', label='precision')\n",
    "    plt.xlabel('n')\n",
    "    plt.ylabel('relative error / precision')\n",
    "    plt.legend()\n",
    "    plt.show()"
   ]
  },
  {
   "cell_type": "code",
   "execution_count": 42,
   "metadata": {},
   "outputs": [],
   "source": [
    "def get_data(lower_bound=2, upper_bound=2000):\n",
    "    \"\"\"\n",
    "    compute the relative_error and precision error between Striling's apprximation\n",
    "    and log(n!) for all values of n in between lower_bound and upper_bound.\n",
    "    \"\"\"\n",
    "    \n",
    "    # initialize values \n",
    "    n_values = numpy.arange(lower_bound, upper_bound)\n",
    "    relative_errors = []\n",
    "    precision_errors = []\n",
    "\n",
    "    for n in n_values:\n",
    "\n",
    "        # compute the true value and Stirling's approximatation value of log(n!)\n",
    "        f = log_n_factorial(n) # true_value\n",
    "        F = stirling_approximatation(n) # approximate_value\n",
    "\n",
    "        # compute and record relative error and precision error\n",
    "        _, r, p = errors(f,F)\n",
    "        relative_errors.append(r)\n",
    "        precision_errors.append(p)\n",
    "        \n",
    "    return relative_errors, precision_errors, n_values"
   ]
  },
  {
   "cell_type": "code",
   "execution_count": 43,
   "metadata": {},
   "outputs": [],
   "source": [
    "def locate_n_value(precision_errors, n_values, target=4):\n",
    "    \"\"\"\n",
    "    compute the first value of n where precision_error reaches the value specified by target\n",
    "    \"\"\"\n",
    "    \n",
    "    first_idx_to_hit_target = numpy.where(numpy.array(precision_errors) == target)[0][0]\n",
    "    return  n_values[first_idx_to_hit_target]"
   ]
  },
  {
   "cell_type": "code",
   "execution_count": 44,
   "metadata": {
    "deletable": false,
    "nbgrader": {
     "cell_type": "code",
     "checksum": "6195fab472e4537966b7eba4a529a13b",
     "grade": true,
     "grade_id": "cell-a5639245c28a1642",
     "locked": false,
     "points": 4,
     "schema_version": 3,
     "solution": true,
     "task": false
    }
   },
   "outputs": [
    {
     "data": {
      "image/png": "[encoded data removed]",
      "text/plain": [
       "<Figure size 432x288 with 1 Axes>"
      ]
     },
     "metadata": {
      "needs_background": "light"
     },
     "output_type": "display_data"
    }
   ],
   "source": [
    "# YOUR CODE HERE\n",
    "\n",
    "# get the relative error and precision between log(n!) and the\n",
    "# Stirling approximation for all values of n in n_values\n",
    "relative_errors, precision_errors, n_values = get_data()\n",
    "\n",
    "# locate the value of n where we first hit four values of precision\n",
    "n_val = locate_n_value(precision_errors, n_values)\n",
    "\n",
    "# plot the relative errors and precision errors for different values of n\n",
    "plot_approximation(n_values, relative_errors, precision_errors, n_val)"
   ]
  },
  {
   "cell_type": "markdown",
   "metadata": {
    "deletable": false,
    "nbgrader": {
     "cell_type": "markdown",
     "checksum": "ab8966bfa41224e3345e4cd4fcbf9749",
     "grade": true,
     "grade_id": "cell-dcc45d9028355b73",
     "locked": false,
     "points": 4,
     "schema_version": 3,
     "solution": true,
     "task": false
    }
   },
   "source": [
    "1452"
   ]
  },
  {
   "cell_type": "markdown",
   "metadata": {
    "deletable": false,
    "editable": false,
    "nbgrader": {
     "cell_type": "markdown",
     "checksum": "27bfc8b15912bb6e1cdfa2dfd103ced4",
     "grade": false,
     "grade_id": "cell-6968179660613369",
     "locked": true,
     "schema_version": 3,
     "solution": false
    }
   },
   "source": [
    "## Question 2\n",
    "\n",
    "[4 pts] Given the Taylor polynomial expansions of two functions around $x=0$\n",
    "\n",
    "$$\\frac{1}{1-\\Delta x} = 1 + \\Delta x + \\Delta x^2 + \\Delta x^3 + O(\\Delta x^4)$$\n",
    "\n",
    "and\n",
    "\n",
    "$$\\cosh \\Delta x = 1 + \\frac{\\Delta x^2}{2!} + \\frac{\\Delta x^4}{4!} + O(\\Delta x^6)$$\n",
    "\n",
    "calculate their sum and product as well as the order of approximation for the truncation error (i.e. determine the exponent that belongs in the $O$).\n"
   ]
  },
  {
   "cell_type": "markdown",
   "metadata": {
    "deletable": false,
    "nbgrader": {
     "cell_type": "markdown",
     "checksum": "77d458abae3cfa5157eca11bd346e444",
     "grade": true,
     "grade_id": "cell-8500724062567566",
     "locked": false,
     "points": 4,
     "schema_version": 3,
     "solution": true
    }
   },
   "source": [
    "$\n",
    "\\begin{align}\n",
    "    \\frac{1}{1- \\Delta x}\n",
    "    +\n",
    "    cosh( \\Delta x )\n",
    "    &=\n",
    "    2 + \\Delta x + 1.5 ( \\Delta x )^2 + (\\Delta x )^3 + O((\\Delta x)^4)\n",
    "    \\\\\n",
    "    \\frac{cosh( \\Delta x )}{1- \\Delta x}\n",
    "    &=\n",
    "    (1 + \\Delta x + (\\Delta x)^2 + (\\Delta x)^3)\n",
    "    (1 + \\frac{(\\Delta x)^2}{2!} + \\frac{(\\Delta x)^4}{4!}) \n",
    "    +\n",
    "    O((\\Delta x)^4)\n",
    "    \\\\\n",
    "    &=\n",
    "    \\frac{3(\\Delta x)^3}{2} + \\frac{3(\\Delta x)^2}{2} + 1\n",
    "    +\n",
    "    O((\\Delta x)^4)\n",
    "\\end{align}\n",
    "$\n",
    "\n",
    "The order of approximation for the truncation error is 4 for both the sum and the product."
   ]
  },
  {
   "cell_type": "markdown",
   "metadata": {
    "deletable": false,
    "editable": false,
    "nbgrader": {
     "cell_type": "markdown",
     "checksum": "237fcd7151c710b1c2fe86744794671b",
     "grade": false,
     "grade_id": "cell-5632471080286207",
     "locked": true,
     "schema_version": 3,
     "solution": false
    }
   },
   "source": [
    "## Question 3:  The great Exp challenge...\n",
    "\n",
    "Here you will attempt to write a function to calculate $e^x$ using its Taylor polynomial approximation expanded around $x_0=0$\n",
    "\n",
    "$$e^x \\approx T_n(x) = 1 + x + \\frac{x^2}{2!} + \\frac{x^3}{3!} + \\cdots + \\frac{x^n}{n!}$$\n",
    "\n",
    "such that the relative error of $f=e^x$ and $F=T_n(x)$ is of order Machine epsilon ($\\epsilon_{machine}$) for  $x\\in[-50,50]$.  This problem is actually a bit of a stinker and takes a bit of thought (particularly for $x<0$).  But I'll work you through it."
   ]
  },
  {
   "cell_type": "markdown",
   "metadata": {
    "deletable": false,
    "editable": false,
    "nbgrader": {
     "cell_type": "markdown",
     "checksum": "d16eac32cec2913a95095d153a7994b7",
     "grade": false,
     "grade_id": "cell-8186992197557199",
     "locked": true,
     "schema_version": 3,
     "solution": false
    }
   },
   "source": [
    "**(a)** [4 pts] Assume $x> 0$ and show that the upper bound on the *relative error*  at term $n$ \n",
    "\n",
    "$$r_n = \\frac{|e^x - T_n(x)|}{|e^x|}$$\n",
    "\n",
    "is given by\n",
    "\n",
    "$$r_n \\leq \\left | \\frac{x^{n+1}}{(n + 1)!} \\right |$$"
   ]
  },
  {
   "cell_type": "markdown",
   "metadata": {
    "deletable": false,
    "nbgrader": {
     "cell_type": "markdown",
     "checksum": "c066945aa96e6e08fcb676cf3b3e08f3",
     "grade": true,
     "grade_id": "cell-2747685663052674",
     "locked": false,
     "points": 4,
     "schema_version": 3,
     "solution": true
    }
   },
   "source": [
    "Let the proof begin\n",
    "$$\n",
    "\\begin{align}\n",
    "    \\frac{|e^x - T_n(x)|}{|e^x|}\n",
    "    &=\n",
    "    \\frac{e^x - T_n(x)}{e^x} \n",
    "    && \\text{because x > 0}\n",
    "    \\\\\n",
    "    &=\n",
    "    \\frac{R_n(x)}{e^x} \n",
    "    && \\text{because } R_n(x) = f(x) - T_n(x) \n",
    "    \\\\\n",
    "    &=\n",
    "    \\frac{e^c x^{n+1}}{e^x (n+1)!} \n",
    "    && \\text{because } R_n(x) = \\frac{f^{(n+1)}(c)(x-x_0)^{n+1}}{(n+1)!} \n",
    "    = \\frac{e^c x^{n+1}}{(n+1)!}\n",
    "    \\text{ for } c \\in [x_0, x]\n",
    "    \\\\\n",
    "    & \\leq  \\frac{e^x x^{n+1}}{e^x (n+1)!} \n",
    "    && \\text{because } c \\in [x_0, x] \\implies x_0 \\leq c \\leq x \\implies e^{x_0} \\leq e^c \\leq e^x\n",
    "    \\\\\n",
    "    & \\leq \\frac{x^{n+1}}{(n+1)!}\n",
    "    \\\\\n",
    "    \\frac{|e^x - T_n(x)|}{|e^x|}\n",
    "    & \\leq | \\frac{x^{n+1}}{(n+1)!} |\n",
    "    && \\text{because } x > 0 \n",
    "    \\\\\n",
    "\\end{align}\n",
    "$$\n",
    "\n"
   ]
  },
  {
   "cell_type": "markdown",
   "metadata": {
    "deletable": false,
    "editable": false,
    "nbgrader": {
     "cell_type": "markdown",
     "checksum": "9a252bb988e5ae52a24a2e87dfe820b2",
     "grade": false,
     "grade_id": "cell-4678254376542691",
     "locked": true,
     "schema_version": 3,
     "solution": false
    }
   },
   "source": [
    "**(b)** [4 pts] Analytically show that for **large** $x\\gg1$ and $n$, $r_n \\leq \\epsilon_{\\text{machine}}$ implies that we need *approximately* $n > e \\cdot x$ terms in the series (where $e = \\text{exp}(1)$).\n",
    "\n",
    "*Hint* Use Stirling's approximation $log (n!) \\approx n~log~n - n$ (and then this problem is still a bit tricky)"
   ]
  },
  {
   "cell_type": "markdown",
   "metadata": {
    "deletable": false,
    "nbgrader": {
     "cell_type": "markdown",
     "checksum": "8152aede9f1e1f429a231ee2b82df69c",
     "grade": true,
     "grade_id": "cell-4305745011657702",
     "locked": false,
     "points": 4,
     "schema_version": 3,
     "solution": true
    }
   },
   "source": []
  },
  {
   "cell_type": "markdown",
   "metadata": {},
   "source": [
    "$$\n",
    "\\begin{align}\n",
    "    \\epsilon_{machine}\n",
    "    & \\geq \n",
    "    | \\frac{x^{n+1}}{(n+1)!} |\n",
    "    \\\\\n",
    "    \\epsilon_{machine}\n",
    "    & \\geq\n",
    "    \\frac{x^{n+1}}{(n+1)!} \n",
    "    && \\text{ because } x, n > 0\n",
    "    \\\\\n",
    "    \\epsilon_{machine} (n+1)!\n",
    "    & \\geq x^{n+1}\n",
    "    \\\\\n",
    "    log( \\epsilon_{machine} (n+1)!)\n",
    "    & \\geq log( x^{n+1} )\n",
    "    \\\\\n",
    "    log( \\epsilon_{machine}) + (n+1) log(n+1) - (n+1)\n",
    "    & \\geq (n+1) log(x)\n",
    "    && \\text{ by Stirling's approximation}\n",
    "    \\\\\n",
    "    \\frac{log( \\epsilon_{machine})}{n+1} + log(n+1) - 1\n",
    "    & \\geq log(x)\n",
    "    \\\\\n",
    "    log(n+1)\n",
    "    & \\geq 1 + log(x) - \\frac{log( \\epsilon_{machine})}{n+1}\n",
    "    \\\\\n",
    "    n + 1\n",
    "    & \\geq ex \\cdot e^{\\frac{log( \\epsilon_{machine})}{n+1}}\n",
    "    \\\\\n",
    "    n + 1\n",
    "    & \\geq ex \n",
    "    && \\text{because } \\epsilon_{machine} \\text{ is so small, } \n",
    "    n \\text{ is so big then } e^{\\frac{log( \\epsilon_{machine})}{n+1}} \\approx 1\n",
    "    \\\\\n",
    "    n \n",
    "    & \\geq ex - 1 \n",
    "    \\\\\n",
    "    n \n",
    "    & \\geq ex\n",
    "    && \\text{because x is so big, we can drop the 1}\n",
    "    \\\\\n",
    "\\end{align}\n",
    "$$"
   ]
  },
  {
   "cell_type": "markdown",
   "metadata": {
    "deletable": false,
    "editable": false,
    "nbgrader": {
     "cell_type": "markdown",
     "checksum": "a9cef1843dc0ae1deb7e6dbe5f77c33c",
     "grade": false,
     "grade_id": "cell-8048500717179941",
     "locked": true,
     "schema_version": 3,
     "solution": false
    }
   },
   "source": [
    "**(c)** [6 pts] Use this result to write a Python function that accurately approximates $e^x$ using $T_n(x)$ for scalar $x$ and returns both the estimate and the number of terms in the series.  Note that the testing tolerance will be $8 \\cdot \\epsilon_{\\text{machine}}$ over the range $x\\in[-50,50]$\n",
    "\n",
    "Make sure to document your code including expected inputs, outputs, and assumptions being made.\n",
    "\n",
    "Some Hints:\n",
    "* To make your life easier,  we will assume $x$ and $T_n(x)$ are just of type float (not arrays)\n",
    "* Think about how we evaluated polynomials efficiently in class\n",
    "* $T_n(x)$ for $x<0$ is a highly unstable alternating series with severe cancellation issues. However, there is a simple fix that will return accurate solutions independent of the sign of $x$"
   ]
  },
  {
   "cell_type": "code",
   "execution_count": 70,
   "metadata": {},
   "outputs": [],
   "source": [
    "def horner(poly, n, x):\n",
    " \n",
    "    result = poly[0] \n",
    "    for i in range(1, n):\n",
    "        result = result*x + poly[i]\n",
    "    return result"
   ]
  },
  {
   "cell_type": "code",
   "execution_count": 85,
   "metadata": {
    "deletable": false,
    "nbgrader": {
     "cell_type": "code",
     "checksum": "80286c759520479af4ce906ac70f62e5",
     "grade": false,
     "grade_id": "cell-5914967225034965",
     "locked": false,
     "schema_version": 3,
     "solution": true,
     "task": false
    }
   },
   "outputs": [],
   "source": [
    "def Tn_exp(x):\n",
    "    \"\"\" approximate e^x with Taylor's series. Use horner's method and the fact \n",
    "    that e^x = 1/e^|x| for x < 0 to optimize performence. \n",
    "    \n",
    "    Parameters:\n",
    "    -----------\n",
    "        x: float\n",
    "            scalar value to approximate exp(x)\n",
    "    \"\"\"\n",
    "\n",
    "    assert(isinstance(x,float))\n",
    "\n",
    "    # initial values\n",
    "    # I had the issue that when x was small, n would not be large enough so I\n",
    "    # created the threshold to garunetee that n will be large enough\n",
    "    threshold = 50 if numpy.abs(x) < 50 else numpy.abs(x)\n",
    "    MAX_N = int(numpy.ceil(numpy.exp(1) * threshold))\n",
    "    is_negative = x < 0\n",
    "    \n",
    "    if is_negative:\n",
    "        x = numpy.abs(x)\n",
    "     \n",
    "    coefficients = [1/factorial(n) for n in range(0, MAX_N)]\n",
    "    coefficients.reverse()\n",
    "    Tn = horner(coefficients, MAX_N, x)\n",
    "        \n",
    "    if is_negative:\n",
    "        Tn = 1 / Tn\n",
    "        \n",
    "    return Tn, MAX_N"
   ]
  },
  {
   "cell_type": "code",
   "execution_count": 91,
   "metadata": {},
   "outputs": [],
   "source": [
    "# #Feel free to test your code here and/or make a plot of errors\n",
    "\n",
    "# # initial values\n",
    "# x_values = numpy.arange(-50, 50)\n",
    "# relative_errors = []\n",
    "# precision_errors = []\n",
    "# eps = numpy.finfo(float).eps\n",
    "\n",
    "# for x in x_values:\n",
    "    \n",
    "#     F = Tn_exp(float(x))[0] # approximation\n",
    "#     f = numpy.exp(x) # true value\n",
    "    \n",
    "#     _, r, p = errors(f,F)\n",
    "#     relative_errors.append(r)\n",
    "#     precision_errors.append(p)\n",
    "    \n",
    "#     print('x={}\\te^x = {}\\te^x~{}\\tr={}'.format(x, f, F, r / eps))\n",
    "\n",
    "    \n",
    "# # plot the relative errors and precision errors for different values of n\n",
    "# plot_approximation(x_values, relative_errors, precision_errors, 0)"
   ]
  },
  {
   "cell_type": "code",
   "execution_count": 89,
   "metadata": {
    "deletable": false,
    "editable": false,
    "nbgrader": {
     "cell_type": "code",
     "checksum": "ab0f32ce185cc2c7955fb0d04d65f027",
     "grade": true,
     "grade_id": "cell-9688375319882602",
     "locked": true,
     "points": 6,
     "schema_version": 3,
     "solution": false
    }
   },
   "outputs": [
    {
     "name": "stdout",
     "output_type": "stream",
     "text": [
      "maxmimum relative error = 4.252190255480811 eps_machine\n",
      "Success!\n"
     ]
    }
   ],
   "source": [
    "# Testing Cell (do not copy)\n",
    "\n",
    "x = numpy.linspace(-50, 50, 101)\n",
    "eps = numpy.finfo(float).eps\n",
    "tolerance = 8 * eps\n",
    "\n",
    "answer = numpy.zeros(x.shape)\n",
    "N = numpy.zeros(x.shape)\n",
    "for i,xi in enumerate(x):\n",
    "    answer[i], N[i] = Tn_exp(xi)\n",
    "r = numpy.abs(answer - numpy.exp(x)) / numpy.abs(numpy.exp(x))\n",
    "print('maxmimum relative error = {} eps_machine'.format(r.max()/eps))\n",
    "assert(numpy.all(r  < tolerance))\n",
    "print(\"Success!\")"
   ]
  },
  {
   "cell_type": "markdown",
   "metadata": {
    "deletable": false,
    "editable": false,
    "nbgrader": {
     "cell_type": "markdown",
     "checksum": "2b1d4a353e51fbba1658f5a6968d1b42",
     "grade": false,
     "grade_id": "cell-c154452f653c5adc",
     "locked": true,
     "schema_version": 3,
     "solution": false,
     "task": false
    }
   },
   "source": [
    "**(d)** [4 pts] In ieee double precision,  the largest value of $x$ that has $e^x<$ `numpy.finfo(float).max` is about 709 (i.e. `numpy.log(numpy.finfo(float).max))`. \n",
    "\n",
    "* What is the relative error in units of machine epsilon for your routine and `f=numpy.exp(709)`\n",
    "* What is the relative error in units of machine epsilon for `F=numpy.exp(1)**709` and `f=numpy.exp(709)`\n",
    "\n",
    "Explain your results"
   ]
  },
  {
   "cell_type": "code",
   "execution_count": 90,
   "metadata": {},
   "outputs": [
    {
     "name": "stdout",
     "output_type": "stream",
     "text": [
      "4503599627370496.000000 relative error in machine_epsilon between our Taylor series of e^709 and numpy's e^709\n",
      "170.070226 relative error in machine_epsilon between our Taylor series of e^709 and python's e^709\n"
     ]
    }
   ],
   "source": [
    "# initial values\n",
    "max_x = 709\n",
    "eps = numpy.finfo(float).eps\n",
    "\n",
    "\n",
    "# compute relative error in units of machine epsilon \n",
    "# for our Taylor series VS numpy\n",
    "Tn = Tn_exp(float(max_x))[0]\n",
    "ex = numpy.exp(max_x)\n",
    "r = numpy.abs(Tn - ex) / numpy.abs(ex)\n",
    "r_in_machine_epsilon = r / eps\n",
    "print(\"{:5f} relative error in machine_epsilon between our Taylor series of e^709 and numpy's e^709\".format(r_in_machine_epsilon))\n",
    "\n",
    "# compute relative error in units of machine epsilon\n",
    "# for our Taylor series VS python\n",
    "F = numpy.exp(1)**max_x\n",
    "f = numpy.exp(max_x)\n",
    "r = numpy.abs(f - F) / numpy.abs(f)\n",
    "r_in_machine_epsilon_2 = r / eps\n",
    "print(\"{:5f} relative error in machine_epsilon between our Taylor series of e^709 and python's e^709\".format(r_in_machine_epsilon_2))"
   ]
  },
  {
   "cell_type": "markdown",
   "metadata": {
    "deletable": false,
    "nbgrader": {
     "cell_type": "markdown",
     "checksum": "a5a47ab9f08e7fe4764609703387ef9d",
     "grade": true,
     "grade_id": "cell-26e754d164cf2a3a",
     "locked": false,
     "points": 4,
     "schema_version": 3,
     "solution": true,
     "task": false
    }
   },
   "source": [
    "The relative error between our Taylor series approximation of $e^{709}$ and numpy's $e^{709}$ is $4503599627370496 \\epsilon_{machine}$ while the relative error between python's $e^{709}$ and numpy's $e^{709}$ is around $170 \\epsilon_{machine}$. Clearly, the python routine significantly outperforms our Taylor series routine. This likely comes from two places. First, the python routine may have some built in optimization which helps to make it faster than our Taylor series routine. Second, although we use Horner's method, we still have a bunch of multiplication errors that build up when computing the coeifficents of n! (convergence error). So as we compute n!, we can get errors from representing floats with finite precision, and issues that generally arise with multiplication."
   ]
  },
  {
   "cell_type": "markdown",
   "metadata": {
    "deletable": false,
    "editable": false,
    "nbgrader": {
     "cell_type": "markdown",
     "checksum": "9ddafb7ce96253940253bdd63de4c5a3",
     "grade": false,
     "grade_id": "cell-aaa3ac7c64bd5868",
     "locked": true,
     "schema_version": 3,
     "solution": false,
     "task": false
    }
   },
   "source": [
    "**(e)**  **How low can you go?** [4 pts] Can you modify your routine for `Tn_exp(x)`) to approximate $e^x$ on the range $x\\in[-709, 709]$ to within 20 $\\epsilon_{machine}$?\n"
   ]
  },
  {
   "cell_type": "code",
   "execution_count": 92,
   "metadata": {
    "deletable": false,
    "nbgrader": {
     "cell_type": "code",
     "checksum": "9c184e65af5b8e5f46c673245638f9ef",
     "grade": false,
     "grade_id": "cell-28a21d2a7d0bda99",
     "locked": false,
     "schema_version": 3,
     "solution": true,
     "task": false
    }
   },
   "outputs": [],
   "source": [
    "def Tn_exp(x, tolerance=None):\n",
    "    \"\"\" approximate e^x with Taylor's series. Use horner's method and the fact \n",
    "    that e^x = 1/e^|x| for x < 0 to optimize performence. \n",
    "    \n",
    "    Parameters:\n",
    "    -----------\n",
    "        x: float\n",
    "            scalar value to approximate exp(x)\n",
    "    \"\"\"\n",
    "\n",
    "    assert(isinstance(x,float))\n",
    "\n",
    "    # initial values\n",
    "    # I had the issue that when x was small, n would not be large enough so I\n",
    "    # created the threshold to garunetee that n will be large enough\n",
    "    threshold = 100 if numpy.abs(x) < 100 else numpy.abs(x)\n",
    "    MAX_N = int(numpy.ceil(numpy.exp(1) * threshold))\n",
    "    Tn = 1\n",
    "    is_negative = x < 0\n",
    "    \n",
    "    if is_negative:\n",
    "        x = numpy.abs(x)\n",
    "     \n",
    "    # define range\n",
    "    range_ = list(range(1, MAX_N))\n",
    "    range_.reverse()\n",
    "    \n",
    "    # use horner's method to compute taylor series\n",
    "    for n in range_:\n",
    "        Tn = 1 + x/n * Tn\n",
    "        \n",
    "    if is_negative:\n",
    "        Tn = 1 / Tn\n",
    "        \n",
    "    return Tn, MAX_N"
   ]
  },
  {
   "cell_type": "code",
   "execution_count": 93,
   "metadata": {
    "deletable": false,
    "editable": false,
    "nbgrader": {
     "cell_type": "code",
     "checksum": "6011675fe1441e14f574073b0e66e871",
     "grade": true,
     "grade_id": "cell-96883753198883843",
     "locked": true,
     "points": 4,
     "schema_version": 3,
     "solution": false
    }
   },
   "outputs": [
    {
     "name": "stdout",
     "output_type": "stream",
     "text": [
      "maxmimum relative error = 18.978686562895863 eps_machine\n",
      "Success!\n"
     ]
    }
   ],
   "source": [
    "x = numpy.linspace(-709, 709, 101)\n",
    "tolerance = 20 * eps\n",
    "\n",
    "answer = numpy.zeros(x.shape)\n",
    "N = numpy.zeros(x.shape)\n",
    "for i,xi in enumerate(x):\n",
    "    answer[i], N[i] = Tn_exp(xi, tolerance=tolerance)\n",
    "r = numpy.abs(answer - numpy.exp(x)) / numpy.abs(numpy.exp(x))\n",
    "print('maxmimum relative error = {} eps_machine'.format(r.max()/eps))\n",
    "assert(numpy.all(r  < tolerance))\n",
    "print(\"Success!\")"
   ]
  },
  {
   "cell_type": "markdown",
   "metadata": {
    "deletable": false,
    "editable": false,
    "nbgrader": {
     "cell_type": "markdown",
     "checksum": "a18929a8d1127d2e6e77c98b23fb7855",
     "grade": false,
     "grade_id": "cell-6605000347660435",
     "locked": true,
     "schema_version": 3,
     "solution": false
    }
   },
   "source": [
    "## Question 4\n",
    "\n",
    "Consider a computing system that uses deoxyribonucleic acid (DNA) to store information.  Given that DNA is formed from the 4 nucleobases adenine, cytosine, guanine, and thymine (uracil is only found in RNA) let us assume that our storage of numbers will be base 4.  Answer the following questions based on this assuming that we have $p=3$ for the mantissa and the exponent $E \\in [-3, 3]$."
   ]
  },
  {
   "cell_type": "markdown",
   "metadata": {
    "deletable": false,
    "editable": false,
    "nbgrader": {
     "cell_type": "markdown",
     "checksum": "47f4d67565808d7f75e55f0689f21dd6",
     "grade": false,
     "grade_id": "cell-9339658002746268",
     "locked": true,
     "schema_version": 3,
     "solution": false
    }
   },
   "source": [
    "**(a)** [4 pts] Calculate how many numbers can we represent with this system?  What are the underflow and overflow limits?"
   ]
  },
  {
   "cell_type": "markdown",
   "metadata": {
    "deletable": false,
    "nbgrader": {
     "cell_type": "markdown",
     "checksum": "b0255974fb370e1c331638d41f074ddf",
     "grade": true,
     "grade_id": "cell-623b625975f5da41",
     "locked": false,
     "points": 4,
     "schema_version": 3,
     "solution": true
    }
   },
   "source": [
    "We can represent $2 * 3 * 4 * 4 * 7 + 1 =673$ different numbers with this system.\n",
    "\n",
    "\n",
    "Underflow: $1.00 * 4^{-3}$ in base 4 is $1 * \\frac{1}{64}$ in base 10, equaling 0.015625, which with rounding is 0.016 in base 10.\n",
    "\n",
    "\n",
    "Oveflow: $3.33 * 4^{3}$ in base 4 is $ ( 3 + \\frac{3}{4} + \\frac{3}{16} ) * 64$ in base 10, equaling 252 in base 10.\n"
   ]
  },
  {
   "cell_type": "markdown",
   "metadata": {
    "deletable": false,
    "editable": false,
    "nbgrader": {
     "cell_type": "markdown",
     "checksum": "29c7fc5ca0808f62a6b35897f3fbbe87",
     "grade": false,
     "grade_id": "cell-9339658dsfsdf46268",
     "locked": true,
     "schema_version": 3,
     "solution": false
    }
   },
   "source": [
    "**(b)** [4pts] Graphically show how the numbers on the decimal real line are distributed."
   ]
  },
  {
   "cell_type": "code",
   "execution_count": 62,
   "metadata": {
    "deletable": false,
    "nbgrader": {
     "cell_type": "code",
     "checksum": "b95cccb5e3723bc4ebd7a1a10500f39a",
     "grade": true,
     "grade_id": "cell-4c6d3ae47566d1f1",
     "locked": false,
     "points": 4,
     "schema_version": 3,
     "solution": true
    }
   },
   "outputs": [
    {
     "data": {
      "image/png": "[encoded data removed]",
      "text/plain": [
       "<Figure size 1080x216 with 1 Axes>"
      ]
     },
     "metadata": {
      "needs_background": "light"
     },
     "output_type": "display_data"
    }
   ],
   "source": [
    "base = 4\n",
    "\n",
    "fig = plt.figure(figsize=(15.0,3.0))\n",
    "axes = fig.add_subplot(2, 1, 1)\n",
    "\n",
    "axes.plot(0.0, 0.0, '|', markersize=20)\n",
    "axes.set_title(\"Distribution of Values $[-252, 252]$\")\n",
    "axes.set_yticks([])\n",
    "axes.set_xlabel(\"x\")\n",
    "axes.set_ylabel(\"\")\n",
    "\n",
    "for exponent in range(-3, 3+1):\n",
    "    for d1 in range(1, 4):\n",
    "        for d2 in range(4):\n",
    "            for d3 in range(4):\n",
    "                val = d1 + d2 * base ** -1 + d3 * base ** -2\n",
    "                axes.plot( val * base**exponent, 0.0, 'r|', markersize=8)\n",
    "                axes.plot(-val * base**exponent, 0.0, 'r|', markersize=8)\n",
    "                \n",
    "\n",
    "plt.show()"
   ]
  },
  {
   "cell_type": "markdown",
   "metadata": {
    "deletable": false,
    "editable": false,
    "nbgrader": {
     "cell_type": "markdown",
     "checksum": "fab0fc5f3065c300023b60719c30cb3b",
     "grade": false,
     "grade_id": "cell-93396552502746268",
     "locked": true,
     "schema_version": 3,
     "solution": false
    }
   },
   "source": [
    "**(c)** [4 pts] How many more numbers can we store in $N$ base-pairs (base 4) versus $N$ bits (base 2) where the mantissa and exponent are the same relative length (e.g.  p=3, and $E\\in[-3,3]$ for both problems)?"
   ]
  },
  {
   "cell_type": "markdown",
   "metadata": {
    "deletable": false,
    "nbgrader": {
     "cell_type": "markdown",
     "checksum": "16825fa4b75b7fc34d854b1653fe64b8",
     "grade": true,
     "grade_id": "cell-6de5d8dbf91c5ff7",
     "locked": false,
     "points": 4,
     "schema_version": 3,
     "solution": true
    }
   },
   "source": [
    "Generally if $p \\geq 2$, then the number of different digits we have in a system with base $\\beta$, set of exponents $E$, and precision $p$ is $2 * (\\beta - 1) * \\beta^{p-1}* |E| + 1$. So with $p=3, E \\in [-3, 3]$, then we know in base 2 we have 57 possible different numbers and in base 4 we have 673 different numbers. So if we have N base-pairs and N bits, then we can represent $673N-57N=616N$ more numbers using base 4 than base 2.\n",
    "\n",
    "More generally, for base 4 ($\\beta=4$), the number of digits that we have $D_4$, is \n",
    "$$D_4 = 6 * 4^{p-1} |E| + 1$$\n",
    "and for base 2 ($\\beta = 2$), the number of digits that we have $D_2$, is\n",
    "$$ D_2 = 2 |E| + 1$$\n",
    "So if we have N numbers of base 4 and N numbers of base 2, then we can represent $N \\cdot D_4$ numbers with base 4 and $N \\cdot D_2$ numbers with base 2. The difference between these is:\n",
    "$$\n",
    "N D_4 - N D_2 = N(D_4 - D_2) = N (6 * 4^{p-1} |E| + 1 - 2 |E| - 1 ) = 2 N |E| (3 * 4^{p-1} - 1)\n",
    "$$\n",
    "so if we have n numbers, then we will be able to represent $2 N |E| (3 * 4^{p-1} - 1)$ more numbers in base 4 than in base 2."
   ]
  }
 ],
 "metadata": {
  "kernelspec": {
   "display_name": "Python 3",
   "language": "python",
   "name": "python3"
  },
  "language_info": {
   "codemirror_mode": {
    "name": "ipython",
    "version": 3
   },
   "file_extension": ".py",
   "mimetype": "text/x-python",
   "name": "python",
   "nbconvert_exporter": "python",
   "pygments_lexer": "ipython3",
   "version": "3.10.0"
  },
  "latex_envs": {
   "bibliofile": "biblio.bib",
   "cite_by": "apalike",
   "current_citInitial": 1,
   "eqLabelWithNumbers": true,
   "eqNumInitial": 0
  }
 },
 "nbformat": 4,
 "nbformat_minor": 4
}
